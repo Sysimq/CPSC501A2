{
  "cells": [
    {
      "cell_type": "markdown",
      "id": "86336486-6935-4bf6-9c5b-b2c964a61e87",
      "metadata": {
        "id": "86336486-6935-4bf6-9c5b-b2c964a61e87"
      },
      "source": [
        "#Original Author: Jonathan Hudson\n",
        "#CPSC 501 F22"
      ]
    },
    {
      "cell_type": "code",
      "execution_count": 2,
      "id": "7b9bfed6-8429-453f-8f39-dce64688aaaa",
      "metadata": {
        "colab": {
          "base_uri": "https://localhost:8080/"
        },
        "id": "7b9bfed6-8429-453f-8f39-dce64688aaaa",
        "outputId": "ee7ff53a-e54d-44db-dae0-413dcbf4c511"
      },
      "outputs": [
        {
          "output_type": "stream",
          "name": "stdout",
          "text": [
            "--Get data--\n",
            "--Process data--\n"
          ]
        }
      ],
      "source": [
        "import tensorflow as tf\n",
        "import numpy as np\n",
        "\n",
        "tf.random.set_seed(1234)\n",
        "\n",
        "print(\"--Get data--\")\n",
        "with np.load(\"notMNIST.npz\", allow_pickle=True) as f:\n",
        "    x_train, y_train = f['x_train'], f['y_train']\n",
        "    x_test, y_test = f['x_test'], f['y_test']\n",
        "\n",
        "print(\"--Process data--\")\n",
        "x_train, x_test = x_train / 255.0, x_test / 255.0\n",
        "\n",
        "x_train = np.expand_dims(x_train, -1)\n",
        "x_test = np.expand_dims(x_test, -1)\n",
        "input_shape = (28, 28, 1)"
      ]
    },
    {
      "cell_type": "code",
      "execution_count": 7,
      "id": "e66f3a9a-202c-4734-82fc-e2fb378979ae",
      "metadata": {
        "id": "e66f3a9a-202c-4734-82fc-e2fb378979ae",
        "outputId": "2d1b5cc8-17ab-44d2-b2c7-ce0b48fc3916",
        "colab": {
          "base_uri": "https://localhost:8080/"
        }
      },
      "outputs": [
        {
          "output_type": "stream",
          "name": "stdout",
          "text": [
            "--Make model--\n",
            "--Fit model--\n",
            "Epoch 1/5\n",
            "1875/1875 - 4s - loss: 0.6290 - accuracy: 0.8204 - 4s/epoch - 2ms/step\n",
            "Epoch 2/5\n",
            "1875/1875 - 4s - loss: 0.5030 - accuracy: 0.8527 - 4s/epoch - 2ms/step\n",
            "Epoch 3/5\n",
            "1875/1875 - 4s - loss: 0.4586 - accuracy: 0.8647 - 4s/epoch - 2ms/step\n",
            "Epoch 4/5\n",
            "1875/1875 - 4s - loss: 0.4311 - accuracy: 0.8724 - 4s/epoch - 2ms/step\n",
            "Epoch 5/5\n",
            "1875/1875 - 4s - loss: 0.4078 - accuracy: 0.8787 - 4s/epoch - 2ms/step\n"
          ]
        },
        {
          "output_type": "execute_result",
          "data": {
            "text/plain": [
              "<keras.callbacks.History at 0x7fd7101fbc10>"
            ]
          },
          "metadata": {},
          "execution_count": 7
        }
      ],
      "source": [
        "print(\"--Make model--\")\n",
        "model = tf.keras.models.Sequential([\n",
        "  tf.keras.layers.Flatten(input_shape=(28, 28, 1)),\n",
        "  tf.keras.layers.Dense(64, activation='relu'),\n",
        "  tf.keras.layers.Dense(10, activation='softmax')\n",
        "])\n",
        "model.compile(optimizer='Adam', loss='sparse_categorical_crossentropy', metrics=['accuracy'])\n",
        "\n",
        "print(\"--Fit model--\")\n",
        "model.fit(x_train, y_train, epochs=5, verbose=2)"
      ]
    },
    {
      "cell_type": "code",
      "execution_count": 8,
      "id": "d1e873e6-956a-4471-a9b2-61e9421aab01",
      "metadata": {
        "id": "d1e873e6-956a-4471-a9b2-61e9421aab01",
        "outputId": "ef0dcc08-735c-4886-fd5b-3d8e2d48a3f0",
        "colab": {
          "base_uri": "https://localhost:8080/"
        }
      },
      "outputs": [
        {
          "output_type": "stream",
          "name": "stdout",
          "text": [
            "--Evaluate model--\n",
            "1875/1875 - 3s - loss: 0.3705 - accuracy: 0.8886 - 3s/epoch - 1ms/step\n",
            "313/313 - 1s - loss: 0.2526 - accuracy: 0.9283 - 552ms/epoch - 2ms/step\n",
            "Train / Test Accuracy: 88.9% / 92.8%\n"
          ]
        }
      ],
      "source": [
        "print(\"--Evaluate model--\")\n",
        "model_loss1, model_acc1 = model.evaluate(x_train,  y_train, verbose=2)\n",
        "model_loss2, model_acc2 = model.evaluate(x_test,  y_test, verbose=2)\n",
        "print(f\"Train / Test Accuracy: {model_acc1*100:.1f}% / {model_acc2*100:.1f}%\")"
      ]
    },
    {
      "cell_type": "code",
      "source": [
        "model.save(\"notMNIST.h5\")"
      ],
      "metadata": {
        "id": "VqMGj5uTWFbb"
      },
      "id": "VqMGj5uTWFbb",
      "execution_count": 10,
      "outputs": []
    }
  ],
  "metadata": {
    "kernelspec": {
      "display_name": "Python 3 (ipykernel)",
      "language": "python",
      "name": "python3"
    },
    "language_info": {
      "codemirror_mode": {
        "name": "ipython",
        "version": 3
      },
      "file_extension": ".py",
      "mimetype": "text/x-python",
      "name": "python",
      "nbconvert_exporter": "python",
      "pygments_lexer": "ipython3",
      "version": "3.9.7"
    },
    "colab": {
      "provenance": [],
      "collapsed_sections": []
    }
  },
  "nbformat": 4,
  "nbformat_minor": 5
}