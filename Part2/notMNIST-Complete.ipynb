{
  "cells": [
    {
      "cell_type": "markdown",
      "id": "86336486-6935-4bf6-9c5b-b2c964a61e87",
      "metadata": {
        "id": "86336486-6935-4bf6-9c5b-b2c964a61e87"
      },
      "source": [
        "#Original Author: Jonathan Hudson\n",
        "#CPSC 501 F22"
      ]
    },
    {
      "cell_type": "code",
      "execution_count": 1,
      "id": "7b9bfed6-8429-453f-8f39-dce64688aaaa",
      "metadata": {
        "colab": {
          "base_uri": "https://localhost:8080/"
        },
        "id": "7b9bfed6-8429-453f-8f39-dce64688aaaa",
        "outputId": "295aa5a5-3c35-4344-d5f9-85ef118d5b7c"
      },
      "outputs": [
        {
          "output_type": "stream",
          "name": "stdout",
          "text": [
            "--Get data--\n",
            "--Process data--\n",
            "60000\n"
          ]
        }
      ],
      "source": [
        "import tensorflow as tf\n",
        "import numpy as np\n",
        "\n",
        "tf.random.set_seed(1234)\n",
        "\n",
        "print(\"--Get data--\")\n",
        "with np.load(\"notMNIST.npz\", allow_pickle=True) as f:\n",
        "    x_train, y_train = f['x_train'], f['y_train']\n",
        "    x_test, y_test = f['x_test'], f['y_test']\n",
        "\n",
        "print(\"--Process data--\")\n",
        "print(len(y_train))\n",
        "x_train, x_test = x_train / 255.0, x_test / 255.0\n",
        "\n",
        "x_train = np.expand_dims(x_train, -1)\n",
        "x_test = np.expand_dims(x_test, -1)\n",
        "input_shape = (28, 28, 1)"
      ]
    },
    {
      "cell_type": "code",
      "execution_count": 4,
      "id": "e66f3a9a-202c-4734-82fc-e2fb378979ae",
      "metadata": {
        "colab": {
          "base_uri": "https://localhost:8080/"
        },
        "id": "e66f3a9a-202c-4734-82fc-e2fb378979ae",
        "outputId": "9748ed2e-6f73-4cdc-fb4d-b8953fb96f67"
      },
      "outputs": [
        {
          "output_type": "stream",
          "name": "stdout",
          "text": [
            "--Make model--\n",
            "--Fit model--\n",
            "Epoch 1/10\n",
            "469/469 - 18s - loss: 0.5923 - accuracy: 0.8265 - 18s/epoch - 39ms/step\n",
            "Epoch 2/10\n",
            "469/469 - 18s - loss: 0.4108 - accuracy: 0.8770 - 18s/epoch - 38ms/step\n",
            "Epoch 3/10\n",
            "469/469 - 18s - loss: 0.3662 - accuracy: 0.8897 - 18s/epoch - 37ms/step\n",
            "Epoch 4/10\n",
            "469/469 - 18s - loss: 0.3342 - accuracy: 0.8985 - 18s/epoch - 37ms/step\n",
            "Epoch 5/10\n",
            "469/469 - 18s - loss: 0.3044 - accuracy: 0.9071 - 18s/epoch - 37ms/step\n",
            "Epoch 6/10\n",
            "469/469 - 18s - loss: 0.2803 - accuracy: 0.9130 - 18s/epoch - 37ms/step\n",
            "Epoch 7/10\n",
            "469/469 - 18s - loss: 0.2603 - accuracy: 0.9193 - 18s/epoch - 37ms/step\n",
            "Epoch 8/10\n",
            "469/469 - 17s - loss: 0.2361 - accuracy: 0.9253 - 17s/epoch - 37ms/step\n",
            "Epoch 9/10\n",
            "469/469 - 18s - loss: 0.2176 - accuracy: 0.9305 - 18s/epoch - 37ms/step\n",
            "Epoch 10/10\n",
            "469/469 - 18s - loss: 0.1989 - accuracy: 0.9358 - 18s/epoch - 37ms/step\n"
          ]
        },
        {
          "output_type": "execute_result",
          "data": {
            "text/plain": [
              "<keras.callbacks.History at 0x7f7b2ae5dad0>"
            ]
          },
          "metadata": {},
          "execution_count": 4
        }
      ],
      "source": [
        "#https://www.kaggle.com/code/akashkr/tf-keras-tutorial-cnn-part-2/notebook\n",
        "print(\"--Make model--\")\n",
        "model = tf.keras.models.Sequential([\n",
        "  tf.keras.layers.Reshape(input_shape = (28, 28), target_shape=(28, 28, 1)),\n",
        "  tf.keras.layers.Conv2D(32, kernel_size=(5,5), activation='relu'),\n",
        "  tf.keras.layers.MaxPooling2D(pool_size=(2, 2)),\n",
        "  tf.keras.layers.Flatten(),\n",
        "  tf.keras.layers.Dense(128, activation='relu'),\n",
        "  tf.keras.layers.Dropout(0.2),\n",
        "  tf.keras.layers.Dense(10, activation='softmax')\n",
        "])\n",
        "model.compile(optimizer='Adam', loss='sparse_categorical_crossentropy', metrics=['accuracy'])\n",
        "\n",
        "print(\"--Fit model--\")\n",
        "model.fit(x_train, y_train, batch_size=128, epochs=10, verbose=2)"
      ]
    },
    {
      "cell_type": "code",
      "execution_count": 5,
      "id": "d1e873e6-956a-4471-a9b2-61e9421aab01",
      "metadata": {
        "colab": {
          "base_uri": "https://localhost:8080/"
        },
        "id": "d1e873e6-956a-4471-a9b2-61e9421aab01",
        "outputId": "7f8ecc09-0721-4932-f2b3-f0b2cd9abc61"
      },
      "outputs": [
        {
          "output_type": "stream",
          "name": "stdout",
          "text": [
            "--Evaluate model--\n",
            "1875/1875 - 8s - loss: 0.1354 - accuracy: 0.9613 - 8s/epoch - 4ms/step\n",
            "313/313 - 1s - loss: 0.1649 - accuracy: 0.9530 - 1s/epoch - 5ms/step\n",
            "Train / Test Accuracy: 96.1% / 95.3%\n"
          ]
        }
      ],
      "source": [
        "print(\"--Evaluate model--\")\n",
        "model_loss1, model_acc1 = model.evaluate(x_train,  y_train, verbose=2)\n",
        "model_loss2, model_acc2 = model.evaluate(x_test,  y_test, verbose=2)\n",
        "print(f\"Train / Test Accuracy: {model_acc1*100:.1f}% / {model_acc2*100:.1f}%\")"
      ]
    },
    {
      "cell_type": "code",
      "source": [
        "model.save(\"notMNIST.h5\")"
      ],
      "metadata": {
        "id": "7AoNaRFd6688"
      },
      "id": "7AoNaRFd6688",
      "execution_count": 6,
      "outputs": []
    }
  ],
  "metadata": {
    "kernelspec": {
      "display_name": "Python 3 (ipykernel)",
      "language": "python",
      "name": "python3"
    },
    "language_info": {
      "codemirror_mode": {
        "name": "ipython",
        "version": 3
      },
      "file_extension": ".py",
      "mimetype": "text/x-python",
      "name": "python",
      "nbconvert_exporter": "python",
      "pygments_lexer": "ipython3",
      "version": "3.9.7"
    },
    "colab": {
      "provenance": [],
      "collapsed_sections": []
    }
  },
  "nbformat": 4,
  "nbformat_minor": 5
}