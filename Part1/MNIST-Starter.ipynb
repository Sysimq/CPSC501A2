{
  "cells": [
    {
      "cell_type": "markdown",
      "id": "d92862b6-bcf2-4ab6-bc47-eaa07c2a015f",
      "metadata": {
        "id": "d92862b6-bcf2-4ab6-bc47-eaa07c2a015f"
      },
      "source": [
        "#Original Author: Jonathan Hudson\n",
        "#CPSC 501 F22"
      ]
    },
    {
      "cell_type": "code",
      "execution_count": null,
      "id": "38265ac1-5c33-4324-aedc-155483f53ab8",
      "metadata": {
        "colab": {
          "base_uri": "https://localhost:8080/"
        },
        "id": "38265ac1-5c33-4324-aedc-155483f53ab8",
        "outputId": "1e7d49b9-d69d-44a6-e6fe-8d73f664fec4"
      },
      "outputs": [
        {
          "output_type": "stream",
          "name": "stdout",
          "text": [
            "--Get data--\n",
            "Downloading data from https://storage.googleapis.com/tensorflow/tf-keras-datasets/mnist.npz\n",
            "11490434/11490434 [==============================] - 0s 0us/step\n",
            "--Process data--\n"
          ]
        }
      ],
      "source": [
        "import tensorflow as tf\n",
        "\n",
        "tf.random.set_seed(1234)\n",
        "\n",
        "print(\"--Get data--\")\n",
        "mnist = tf.keras.datasets.mnist\n",
        "(x_train, y_train), (x_test, y_test) = mnist.load_data()\n",
        "\n",
        "print(\"--Process data--\")\n",
        "x_train, x_test = x_train / 255.0, x_test / 255.0"
      ]
    },
    {
      "cell_type": "code",
      "execution_count": null,
      "id": "b118e511-7d40-4d34-96e0-e403a020d356",
      "metadata": {
        "colab": {
          "base_uri": "https://localhost:8080/"
        },
        "id": "b118e511-7d40-4d34-96e0-e403a020d356",
        "outputId": "7564093e-2d39-4f00-9680-ba65e45ab748"
      },
      "outputs": [
        {
          "output_type": "stream",
          "name": "stdout",
          "text": [
            "--Make model--\n",
            "--Fit model--\n",
            "Epoch 1/10\n",
            "469/469 - 4s - loss: 0.2683 - accuracy: 0.9237 - 4s/epoch - 10ms/step\n",
            "Epoch 2/10\n",
            "469/469 - 3s - loss: 0.1090 - accuracy: 0.9686 - 3s/epoch - 6ms/step\n",
            "Epoch 3/10\n",
            "469/469 - 3s - loss: 0.0705 - accuracy: 0.9791 - 3s/epoch - 7ms/step\n",
            "Epoch 4/10\n",
            "469/469 - 3s - loss: 0.0502 - accuracy: 0.9849 - 3s/epoch - 6ms/step\n",
            "Epoch 5/10\n",
            "469/469 - 3s - loss: 0.0366 - accuracy: 0.9894 - 3s/epoch - 6ms/step\n",
            "Epoch 6/10\n",
            "469/469 - 3s - loss: 0.0267 - accuracy: 0.9927 - 3s/epoch - 6ms/step\n",
            "Epoch 7/10\n",
            "469/469 - 3s - loss: 0.0201 - accuracy: 0.9948 - 3s/epoch - 6ms/step\n",
            "Epoch 8/10\n",
            "469/469 - 3s - loss: 0.0147 - accuracy: 0.9961 - 3s/epoch - 6ms/step\n",
            "Epoch 9/10\n",
            "469/469 - 3s - loss: 0.0121 - accuracy: 0.9969 - 3s/epoch - 6ms/step\n",
            "Epoch 10/10\n",
            "469/469 - 3s - loss: 0.0079 - accuracy: 0.9985 - 3s/epoch - 6ms/step\n"
          ]
        },
        {
          "output_type": "execute_result",
          "data": {
            "text/plain": [
              "<keras.callbacks.History at 0x7f97664b4c10>"
            ]
          },
          "metadata": {},
          "execution_count": 2
        }
      ],
      "source": [
        "print(\"--Make model--\")\n",
        "model = tf.keras.models.Sequential([\n",
        "  tf.keras.layers.Flatten(input_shape=(28, 28)),\n",
        "  tf.keras.layers.Dense(512, activation='relu'),\n",
        "  tf.keras.layers.Dense(10, activation='softmax')\n",
        "])\n",
        "model.compile(optimizer='Adam', loss='sparse_categorical_crossentropy', metrics=['accuracy'])\n",
        "\n",
        "print(\"--Fit model--\")\n",
        "model.fit(x_train, y_train, batch_size=128, epochs=10, verbose=2)"
      ]
    },
    {
      "cell_type": "code",
      "execution_count": null,
      "id": "0386efc2-843f-4805-8f5d-e25125e677dc",
      "metadata": {
        "colab": {
          "base_uri": "https://localhost:8080/"
        },
        "id": "0386efc2-843f-4805-8f5d-e25125e677dc",
        "outputId": "847fb8dc-47e3-474f-8507-bf810c458743"
      },
      "outputs": [
        {
          "output_type": "stream",
          "name": "stdout",
          "text": [
            "--Evaluate model--\n",
            "1875/1875 - 5s - loss: 0.0069 - accuracy: 0.9985 - 5s/epoch - 3ms/step\n",
            "313/313 - 1s - loss: 0.0649 - accuracy: 0.9816 - 727ms/epoch - 2ms/step\n",
            "Train / Test Accuracy: 99.9% / 98.2%\n"
          ]
        }
      ],
      "source": [
        "print(\"--Evaluate model--\")\n",
        "model_loss1, model_acc1 = model.evaluate(x_train,  y_train, verbose=2)\n",
        "model_loss2, model_acc2 = model.evaluate(x_test,  y_test, verbose=2)\n",
        "print(f\"Train / Test Accuracy: {model_acc1*100:.1f}% / {model_acc2*100:.1f}%\")"
      ]
    },
    {
      "cell_type": "code",
      "source": [
        "model.save(\"MNIST.h5\")"
      ],
      "metadata": {
        "id": "3AZnaTNe7FZ0"
      },
      "id": "3AZnaTNe7FZ0",
      "execution_count": null,
      "outputs": []
    }
  ],
  "metadata": {
    "kernelspec": {
      "display_name": "Python 3.9.6 64-bit",
      "language": "python",
      "name": "python3"
    },
    "language_info": {
      "codemirror_mode": {
        "name": "ipython",
        "version": 3
      },
      "file_extension": ".py",
      "mimetype": "text/x-python",
      "name": "python",
      "nbconvert_exporter": "python",
      "pygments_lexer": "ipython3",
      "version": "3.9.6"
    },
    "vscode": {
      "interpreter": {
        "hash": "31f2aee4e71d21fbe5cf8b01ff0e069b9275f58929596ceb00d14d90e3e16cd6"
      }
    },
    "colab": {
      "provenance": [],
      "collapsed_sections": []
    }
  },
  "nbformat": 4,
  "nbformat_minor": 5
}